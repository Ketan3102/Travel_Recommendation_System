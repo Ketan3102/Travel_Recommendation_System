{
 "cells": [
  {
   "cell_type": "code",
   "execution_count": 1,
   "id": "a9abfcd1",
   "metadata": {},
   "outputs": [],
   "source": [
    "import pandas as pd\n",
    "import numpy as np\n",
    "from geopy.geocoders import Nominatim\n",
    "from sklearn.metrics.pairwise import cosine_similarity\n",
    "from sklearn.feature_extraction.text import CountVectorizer\n",
    "\n",
    "import statsmodels.api as sm\n",
    "import matplotlib.pyplot as plt\n",
    "import seaborn as sns\n",
    "from sklearn.cluster import KMeans\n",
    "import warnings\n",
    "warnings.filterwarnings('ignore')"
   ]
  },
  {
   "cell_type": "code",
   "execution_count": 2,
   "id": "1d1495c5",
   "metadata": {},
   "outputs": [
    {
     "data": {
      "text/html": [
       "<div>\n",
       "<style scoped>\n",
       "    .dataframe tbody tr th:only-of-type {\n",
       "        vertical-align: middle;\n",
       "    }\n",
       "\n",
       "    .dataframe tbody tr th {\n",
       "        vertical-align: top;\n",
       "    }\n",
       "\n",
       "    .dataframe thead th {\n",
       "        text-align: right;\n",
       "    }\n",
       "</style>\n",
       "<table border=\"1\" class=\"dataframe\">\n",
       "  <thead>\n",
       "    <tr style=\"text-align: right;\">\n",
       "      <th></th>\n",
       "      <th>Place</th>\n",
       "      <th>Rating</th>\n",
       "      <th>Best Time to Visit</th>\n",
       "      <th>Description</th>\n",
       "      <th>Tags</th>\n",
       "    </tr>\n",
       "  </thead>\n",
       "  <tbody>\n",
       "    <tr>\n",
       "      <th>0</th>\n",
       "      <td>Agartala</td>\n",
       "      <td>3.8</td>\n",
       "      <td>hroughout the year</td>\n",
       "      <td>Home to the Manikya Kings in the past, Agartal...</td>\n",
       "      <td>\"Gateway to Tripuran Heritage\"</td>\n",
       "    </tr>\n",
       "    <tr>\n",
       "      <th>1</th>\n",
       "      <td>Agra</td>\n",
       "      <td>4.2</td>\n",
       "      <td>October to March</td>\n",
       "      <td>Located on the banks of River Yamuna in Uttar ...</td>\n",
       "      <td>\"The city of Taj Mahal, the monument of etern...</td>\n",
       "    </tr>\n",
       "    <tr>\n",
       "      <th>2</th>\n",
       "      <td>Ahmedabad</td>\n",
       "      <td>4.1</td>\n",
       "      <td>October to March</td>\n",
       "      <td>A rapidly growing metropolis, an industrial hu...</td>\n",
       "      <td>\"Manchester of the East\"</td>\n",
       "    </tr>\n",
       "    <tr>\n",
       "      <th>3</th>\n",
       "      <td>Ajanta and Ellora Caves</td>\n",
       "      <td>4.4</td>\n",
       "      <td>June to March</td>\n",
       "      <td>Ajanta and Ellora caves, considered to be one ...</td>\n",
       "      <td>\"World Heritage Ancient Rock-Cut Caves\"</td>\n",
       "    </tr>\n",
       "    <tr>\n",
       "      <th>4</th>\n",
       "      <td>Ajmer</td>\n",
       "      <td>3.8</td>\n",
       "      <td>October to March</td>\n",
       "      <td>Surrounded by Aravali ranges, the city of Ajme...</td>\n",
       "      <td>\"The land of Ajmer Sharif Dargah\"</td>\n",
       "    </tr>\n",
       "  </tbody>\n",
       "</table>\n",
       "</div>"
      ],
      "text/plain": [
       "                     Place  Rating  Best Time to Visit  \\\n",
       "0                 Agartala     3.8  hroughout the year   \n",
       "1                     Agra     4.2    October to March   \n",
       "2                Ahmedabad     4.1    October to March   \n",
       "3  Ajanta and Ellora Caves     4.4       June to March   \n",
       "4                    Ajmer     3.8    October to March   \n",
       "\n",
       "                                         Description  \\\n",
       "0  Home to the Manikya Kings in the past, Agartal...   \n",
       "1  Located on the banks of River Yamuna in Uttar ...   \n",
       "2  A rapidly growing metropolis, an industrial hu...   \n",
       "3  Ajanta and Ellora caves, considered to be one ...   \n",
       "4  Surrounded by Aravali ranges, the city of Ajme...   \n",
       "\n",
       "                                                Tags  \n",
       "0                    \"Gateway to Tripuran Heritage\"   \n",
       "1   \"The city of Taj Mahal, the monument of etern...  \n",
       "2                          \"Manchester of the East\"   \n",
       "3           \"World Heritage Ancient Rock-Cut Caves\"   \n",
       "4                 \"The land of Ajmer Sharif Dargah\"   "
      ]
     },
     "execution_count": 2,
     "metadata": {},
     "output_type": "execute_result"
    }
   ],
   "source": [
    "df= pd.read_csv(r\"D:\\\\merge\\\\tourism_India.csv\", encoding='latin-1')\n",
    "df.head()"
   ]
  },
  {
   "cell_type": "code",
   "execution_count": 8,
   "id": "aa3e9414",
   "metadata": {},
   "outputs": [
    {
     "name": "stdout",
     "output_type": "stream",
     "text": [
      "                      Place  Rating  Best Time to Visit  \\\n",
      "0                  Agartala     3.8  hroughout the year   \n",
      "1                      Agra     4.2    October to March   \n",
      "2                 Ahmedabad     4.1    October to March   \n",
      "3   Ajanta and Ellora Caves     4.4       June to March   \n",
      "4                     Ajmer     3.8    October to March   \n",
      "..                      ...     ...                 ...   \n",
      "95                 Varanasi     4.5    October to March   \n",
      "96                  Varkala     4.5  hroughout the year   \n",
      "97            Visakhapatnam     4.4  September to March   \n",
      "98                Vrindavan     4.3    October to March   \n",
      "99                  Wayanad     4.3  hroughout the year   \n",
      "\n",
      "                                          Description  \\\n",
      "0   Home to the Manikya Kings in the past, Agartal...   \n",
      "1   Located on the banks of River Yamuna in Uttar ...   \n",
      "2   A rapidly growing metropolis, an industrial hu...   \n",
      "3   Ajanta and Ellora caves, considered to be one ...   \n",
      "4   Surrounded by Aravali ranges, the city of Ajme...   \n",
      "..                                                ...   \n",
      "95  World's oldest living city, Varanasi - also kn...   \n",
      "96  Varkala is a coastal town in the southern part...   \n",
      "97  Visakhapatnam, also commonly known as Vizag, i...   \n",
      "98  One of the oldest cities on the banks of Yamun...   \n",
      "99  Replete with waterfalls, historical caves, com...   \n",
      "\n",
      "                                                 Tags   Latitude  Longitude  \n",
      "0                     \"Gateway to Tripuran Heritage\"   23.831238  91.282382  \n",
      "1    \"The city of Taj Mahal, the monument of etern...  27.175255  78.009816  \n",
      "2                           \"Manchester of the East\"   23.021624  72.579707  \n",
      "3            \"World Heritage Ancient Rock-Cut Caves\"         NaN        NaN  \n",
      "4                  \"The land of Ajmer Sharif Dargah\"   26.469100  74.639000  \n",
      "..                                                ...        ...        ...  \n",
      "95                  \"The Spiritual Capital of India\"   25.335649  83.007629  \n",
      "96                   \"The hidden treasure of Kerala\"    8.734229  76.725709  \n",
      "97                            \"A gem of South India\"   17.723128  83.301284  \n",
      "98                  \"Lord Krishna's childhood abode\"   27.575373  77.693804  \n",
      "99                                  \"Nature's Abode\"   11.715129  76.127119  \n",
      "\n",
      "[100 rows x 7 columns]\n"
     ]
    },
    {
     "ename": "NameError",
     "evalue": "name 'new_df' is not defined",
     "output_type": "error",
     "traceback": [
      "\u001b[1;31m---------------------------------------------------------------------------\u001b[0m",
      "\u001b[1;31mNameError\u001b[0m                                 Traceback (most recent call last)",
      "\u001b[1;32m~\\AppData\\Local\\Temp\\ipykernel_6464\\3965721488.py\u001b[0m in \u001b[0;36m<module>\u001b[1;34m\u001b[0m\n\u001b[0;32m     39\u001b[0m \u001b[1;33m\u001b[0m\u001b[0m\n\u001b[0;32m     40\u001b[0m \u001b[1;31m# Save the DataFrame to a CSV file\u001b[0m\u001b[1;33m\u001b[0m\u001b[1;33m\u001b[0m\u001b[0m\n\u001b[1;32m---> 41\u001b[1;33m \u001b[0mnew_df\u001b[0m\u001b[1;33m.\u001b[0m\u001b[0mto_csv\u001b[0m\u001b[1;33m(\u001b[0m\u001b[0mfile_path\u001b[0m\u001b[1;33m,\u001b[0m \u001b[0mindex\u001b[0m\u001b[1;33m=\u001b[0m\u001b[1;32mFalse\u001b[0m\u001b[1;33m)\u001b[0m\u001b[1;33m\u001b[0m\u001b[1;33m\u001b[0m\u001b[0m\n\u001b[0m\u001b[0;32m     42\u001b[0m \u001b[1;33m\u001b[0m\u001b[0m\n",
      "\u001b[1;31mNameError\u001b[0m: name 'new_df' is not defined"
     ]
    }
   ],
   "source": [
    "import pandas as pd\n",
    "from geopy.geocoders import Nominatim\n",
    "\n",
    "# Assuming you have the 'df' DataFrame with the places data\n",
    "df= pd.read_csv(r\"D:\\\\merge\\\\tourism_India.csv\", encoding='latin-1')\n",
    "df.head()\n",
    "# Function to get the latitude and longitude for a given place using geocoding\n",
    "def get_coordinates(place, country):\n",
    "    geolocator = Nominatim(user_agent=\"my-app\")\n",
    "    location = geolocator.geocode(place + ', ' + country)\n",
    "    if location:\n",
    "        return location.latitude, location.longitude\n",
    "    else:\n",
    "        return None, None\n",
    "\n",
    "# Get the country value\n",
    "country = 'India'\n",
    "\n",
    "# Iterate over the dataframe rows and calculate latitude and longitude for each place\n",
    "latitude = []\n",
    "longitude = []\n",
    "\n",
    "for index, row in df.iterrows():\n",
    "    place = row['Place']\n",
    "    lat, lon = get_coordinates(place, country)\n",
    "    latitude.append(lat)\n",
    "    longitude.append(lon)\n",
    "\n",
    "# Add the latitude and longitude columns to the dataframe\n",
    "df['Latitude'] = latitude\n",
    "df['Longitude'] = longitude\n",
    "\n",
    "# Print the dataframe with latitude and longitude\n",
    "print(df)\n",
    "\n",
    "\n"
   ]
  },
  {
   "cell_type": "code",
   "execution_count": 9,
   "id": "cd5e157b",
   "metadata": {},
   "outputs": [],
   "source": [
    "'''file_path = r\"D:\\merge\\new_dataframe.csv\"\n",
    "\n",
    "# Save the DataFrame to a CSV file\n",
    "df.to_csv(file_path, index=False)'''"
   ]
  },
  {
   "cell_type": "code",
   "execution_count": 18,
   "id": "09715cec",
   "metadata": {},
   "outputs": [
    {
     "data": {
      "text/html": [
       "<div>\n",
       "<style scoped>\n",
       "    .dataframe tbody tr th:only-of-type {\n",
       "        vertical-align: middle;\n",
       "    }\n",
       "\n",
       "    .dataframe tbody tr th {\n",
       "        vertical-align: top;\n",
       "    }\n",
       "\n",
       "    .dataframe thead th {\n",
       "        text-align: right;\n",
       "    }\n",
       "</style>\n",
       "<table border=\"1\" class=\"dataframe\">\n",
       "  <thead>\n",
       "    <tr style=\"text-align: right;\">\n",
       "      <th></th>\n",
       "      <th>Place</th>\n",
       "      <th>Rating</th>\n",
       "      <th>Best Time to Visit</th>\n",
       "      <th>Description</th>\n",
       "      <th>Tags</th>\n",
       "      <th>Latitude</th>\n",
       "      <th>Longitude</th>\n",
       "    </tr>\n",
       "  </thead>\n",
       "  <tbody>\n",
       "    <tr>\n",
       "      <th>0</th>\n",
       "      <td>Agartala</td>\n",
       "      <td>3.8</td>\n",
       "      <td>hroughout the year</td>\n",
       "      <td>Home to the Manikya Kings in the past, Agartal...</td>\n",
       "      <td>\"Gateway to Tripuran Heritage\"</td>\n",
       "      <td>23.831238</td>\n",
       "      <td>91.282382</td>\n",
       "    </tr>\n",
       "    <tr>\n",
       "      <th>1</th>\n",
       "      <td>Agra</td>\n",
       "      <td>4.2</td>\n",
       "      <td>October to March</td>\n",
       "      <td>Located on the banks of River Yamuna in Uttar ...</td>\n",
       "      <td>\"The city of Taj Mahal, the monument of etern...</td>\n",
       "      <td>27.175255</td>\n",
       "      <td>78.009816</td>\n",
       "    </tr>\n",
       "    <tr>\n",
       "      <th>2</th>\n",
       "      <td>Ahmedabad</td>\n",
       "      <td>4.1</td>\n",
       "      <td>October to March</td>\n",
       "      <td>A rapidly growing metropolis, an industrial hu...</td>\n",
       "      <td>\"Manchester of the East\"</td>\n",
       "      <td>23.021624</td>\n",
       "      <td>72.579707</td>\n",
       "    </tr>\n",
       "    <tr>\n",
       "      <th>3</th>\n",
       "      <td>Ajanta and Ellora Caves</td>\n",
       "      <td>4.4</td>\n",
       "      <td>June to March</td>\n",
       "      <td>Ajanta and Ellora caves, considered to be one ...</td>\n",
       "      <td>\"World Heritage Ancient Rock-Cut Caves\"</td>\n",
       "      <td>20.026800</td>\n",
       "      <td>20.532900</td>\n",
       "    </tr>\n",
       "    <tr>\n",
       "      <th>4</th>\n",
       "      <td>Ajmer</td>\n",
       "      <td>3.8</td>\n",
       "      <td>October to March</td>\n",
       "      <td>Surrounded by Aravali ranges, the city of Ajme...</td>\n",
       "      <td>\"The land of Ajmer Sharif Dargah\"</td>\n",
       "      <td>26.469100</td>\n",
       "      <td>74.639000</td>\n",
       "    </tr>\n",
       "  </tbody>\n",
       "</table>\n",
       "</div>"
      ],
      "text/plain": [
       "                     Place  Rating  Best Time to Visit  \\\n",
       "0                 Agartala     3.8  hroughout the year   \n",
       "1                     Agra     4.2    October to March   \n",
       "2                Ahmedabad     4.1    October to March   \n",
       "3  Ajanta and Ellora Caves     4.4       June to March   \n",
       "4                    Ajmer     3.8    October to March   \n",
       "\n",
       "                                         Description  \\\n",
       "0  Home to the Manikya Kings in the past, Agartal...   \n",
       "1  Located on the banks of River Yamuna in Uttar ...   \n",
       "2  A rapidly growing metropolis, an industrial hu...   \n",
       "3  Ajanta and Ellora caves, considered to be one ...   \n",
       "4  Surrounded by Aravali ranges, the city of Ajme...   \n",
       "\n",
       "                                                Tags   Latitude  Longitude  \n",
       "0                    \"Gateway to Tripuran Heritage\"   23.831238  91.282382  \n",
       "1   \"The city of Taj Mahal, the monument of etern...  27.175255  78.009816  \n",
       "2                          \"Manchester of the East\"   23.021624  72.579707  \n",
       "3           \"World Heritage Ancient Rock-Cut Caves\"   20.026800  20.532900  \n",
       "4                 \"The land of Ajmer Sharif Dargah\"   26.469100  74.639000  "
      ]
     },
     "execution_count": 18,
     "metadata": {},
     "output_type": "execute_result"
    }
   ],
   "source": [
    "df=pd.read_csv(r\"D:\\merge\\new_dataframe.csv\")\n",
    "df.head()"
   ]
  },
  {
   "cell_type": "code",
   "execution_count": 22,
   "id": "43c28049",
   "metadata": {},
   "outputs": [
    {
     "name": "stdout",
     "output_type": "stream",
     "text": [
      "Enter a place name: Agra\n",
      "Enter the maximum distance threshold (in kilometers): 234\n",
      "Recommended places nearby:\n",
      "Agra\n",
      "Delhi\n",
      "Gwalior\n",
      "Jaipur\n",
      "Mathura\n",
      "Ranthambore\n",
      "Vrindavan\n"
     ]
    }
   ],
   "source": [
    "import pandas as pd\n",
    "from sklearn.cluster import KMeans\n",
    "from geopy.distance import geodesic\n",
    "\n",
    "# Assuming you have the 'df' DataFrame with latitude, longitude, and place columns\n",
    "\n",
    "# Select the latitude and longitude columns as input features for clustering\n",
    "X = df[['Latitude', 'Longitude']]\n",
    "\n",
    "# Define the number of clusters for k-means\n",
    "num_clusters = 5\n",
    "\n",
    "# Perform k-means clustering\n",
    "kmeans = KMeans(n_clusters=num_clusters)\n",
    "kmeans.fit(X)\n",
    "\n",
    "# Get the cluster labels for each data point\n",
    "cluster_labels = kmeans.labels_\n",
    "\n",
    "# Add the cluster labels to the dataframe\n",
    "df['Cluster'] = cluster_labels\n",
    "\n",
    "# Function to recommend nearby places based on a given place's latitude and longitude\n",
    "def recommend_nearby_places(lat, lon, distance_threshold):\n",
    "    nearby_places = []\n",
    "    target_location = (lat, lon)\n",
    "    \n",
    "    for _, row in df.iterrows():\n",
    "        location = (row['Latitude'], row['Longitude'])\n",
    "        distance = geodesic(target_location, location).kilometers\n",
    "        \n",
    "        if distance <= distance_threshold:\n",
    "            nearby_places.append(row['Place'])\n",
    "    \n",
    "    return nearby_places\n",
    "\n",
    "# Get the input place and distance threshold from the user\n",
    "input_place = input(\"Enter a place name: \")\n",
    "distance_threshold = float(input(\"Enter the maximum distance threshold (in kilometers): \"))\n",
    "\n",
    "# Get the latitude and longitude of the input place\n",
    "input_location = df[df['Place'] == input_place]\n",
    "input_lat = input_location['Latitude'].values[0]\n",
    "input_lon = input_location['Longitude'].values[0]\n",
    "\n",
    "# Recommend nearby places based on the input location\n",
    "recommended_places = recommend_nearby_places(input_lat, input_lon, distance_threshold)\n",
    "\n",
    "# Print the recommended places\n",
    "if recommended_places:\n",
    "    print(\"Recommended places nearby:\")\n",
    "    for place in recommended_places:\n",
    "        print(place)\n",
    "else:\n",
    "    print(\"No nearby places found within the specified distance threshold.\")\n",
    "\n",
    "\n"
   ]
  },
  {
   "cell_type": "code",
   "execution_count": 1,
   "id": "681fcba7",
   "metadata": {},
   "outputs": [],
   "source": [
    "import pandas as pd\n",
    "import matplotlib.pyplot as plt\n",
    "import seaborn as sns"
   ]
  },
  {
   "cell_type": "code",
   "execution_count": 2,
   "id": "87315e84",
   "metadata": {},
   "outputs": [
    {
     "data": {
      "text/html": [
       "<div>\n",
       "<style scoped>\n",
       "    .dataframe tbody tr th:only-of-type {\n",
       "        vertical-align: middle;\n",
       "    }\n",
       "\n",
       "    .dataframe tbody tr th {\n",
       "        vertical-align: top;\n",
       "    }\n",
       "\n",
       "    .dataframe thead th {\n",
       "        text-align: right;\n",
       "    }\n",
       "</style>\n",
       "<table border=\"1\" class=\"dataframe\">\n",
       "  <thead>\n",
       "    <tr style=\"text-align: right;\">\n",
       "      <th></th>\n",
       "      <th>Place</th>\n",
       "      <th>Rating</th>\n",
       "      <th>Best Time to Visit</th>\n",
       "      <th>Description</th>\n",
       "      <th>Tags</th>\n",
       "      <th>Latitude</th>\n",
       "      <th>Longitude</th>\n",
       "    </tr>\n",
       "  </thead>\n",
       "  <tbody>\n",
       "    <tr>\n",
       "      <th>0</th>\n",
       "      <td>Agartala</td>\n",
       "      <td>3.8</td>\n",
       "      <td>Throughout the year</td>\n",
       "      <td>Home to the Manikya Kings in the past, Agartal...</td>\n",
       "      <td>\"Gateway to Tripuran Heritage\"</td>\n",
       "      <td>23.831238</td>\n",
       "      <td>91.282382</td>\n",
       "    </tr>\n",
       "    <tr>\n",
       "      <th>1</th>\n",
       "      <td>Agra</td>\n",
       "      <td>4.2</td>\n",
       "      <td>October to March</td>\n",
       "      <td>Located on the banks of River Yamuna in Uttar ...</td>\n",
       "      <td>\"The city of Taj Mahal, the monument of etern...</td>\n",
       "      <td>27.175255</td>\n",
       "      <td>78.009816</td>\n",
       "    </tr>\n",
       "    <tr>\n",
       "      <th>2</th>\n",
       "      <td>Ahmedabad</td>\n",
       "      <td>4.1</td>\n",
       "      <td>October to March</td>\n",
       "      <td>A rapidly growing metropolis, an industrial hu...</td>\n",
       "      <td>\"Manchester of the East\"</td>\n",
       "      <td>23.021624</td>\n",
       "      <td>72.579707</td>\n",
       "    </tr>\n",
       "    <tr>\n",
       "      <th>3</th>\n",
       "      <td>Ajanta and Ellora Caves</td>\n",
       "      <td>4.4</td>\n",
       "      <td>June to March</td>\n",
       "      <td>Ajanta and Ellora caves, considered to be one ...</td>\n",
       "      <td>\"World Heritage Ancient Rock-Cut Caves\"</td>\n",
       "      <td>20.026800</td>\n",
       "      <td>20.532900</td>\n",
       "    </tr>\n",
       "    <tr>\n",
       "      <th>4</th>\n",
       "      <td>Ajmer</td>\n",
       "      <td>3.8</td>\n",
       "      <td>October to March</td>\n",
       "      <td>Surrounded by Aravali ranges, the city of Ajme...</td>\n",
       "      <td>\"The land of Ajmer Sharif Dargah\"</td>\n",
       "      <td>26.469100</td>\n",
       "      <td>74.639000</td>\n",
       "    </tr>\n",
       "  </tbody>\n",
       "</table>\n",
       "</div>"
      ],
      "text/plain": [
       "                     Place  Rating   Best Time to Visit  \\\n",
       "0                 Agartala     3.8  Throughout the year   \n",
       "1                     Agra     4.2     October to March   \n",
       "2                Ahmedabad     4.1     October to March   \n",
       "3  Ajanta and Ellora Caves     4.4        June to March   \n",
       "4                    Ajmer     3.8     October to March   \n",
       "\n",
       "                                         Description  \\\n",
       "0  Home to the Manikya Kings in the past, Agartal...   \n",
       "1  Located on the banks of River Yamuna in Uttar ...   \n",
       "2  A rapidly growing metropolis, an industrial hu...   \n",
       "3  Ajanta and Ellora caves, considered to be one ...   \n",
       "4  Surrounded by Aravali ranges, the city of Ajme...   \n",
       "\n",
       "                                                Tags   Latitude  Longitude  \n",
       "0                    \"Gateway to Tripuran Heritage\"   23.831238  91.282382  \n",
       "1   \"The city of Taj Mahal, the monument of etern...  27.175255  78.009816  \n",
       "2                          \"Manchester of the East\"   23.021624  72.579707  \n",
       "3           \"World Heritage Ancient Rock-Cut Caves\"   20.026800  20.532900  \n",
       "4                 \"The land of Ajmer Sharif Dargah\"   26.469100  74.639000  "
      ]
     },
     "execution_count": 2,
     "metadata": {},
     "output_type": "execute_result"
    }
   ],
   "source": [
    "df=pd.read_csv(r\"C:\\Users\\DELL\\Downloads\\new_dataframe.csv\")\n",
    "df.head()"
   ]
  },
  {
   "cell_type": "code",
   "execution_count": 3,
   "id": "c2df776a",
   "metadata": {},
   "outputs": [
    {
     "name": "stderr",
     "output_type": "stream",
     "text": [
      "[nltk_data] Downloading package stopwords to\n",
      "[nltk_data]     C:\\Users\\DELL\\AppData\\Roaming\\nltk_data...\n",
      "[nltk_data]   Package stopwords is already up-to-date!\n"
     ]
    }
   ],
   "source": [
    "import pandas as pd\n",
    "import numpy as np\n",
    "import difflib\n",
    "from sklearn.feature_extraction.text import TfidfVectorizer\n",
    "from sklearn.metrics.pairwise import cosine_similarity\n",
    "import nltk\n",
    "nltk.download('stopwords')\n",
    "from nltk.corpus import stopwords\n",
    "from nltk.tokenize import word_tokenize\n",
    "from nltk.stem.porter import PorterStemmer\n",
    "from nltk.stem import WordNetLemmatizer"
   ]
  },
  {
   "cell_type": "code",
   "execution_count": 4,
   "id": "9f422d45",
   "metadata": {},
   "outputs": [
    {
     "name": "stderr",
     "output_type": "stream",
     "text": [
      "[nltk_data] Downloading package punkt to\n",
      "[nltk_data]     C:\\Users\\DELL\\AppData\\Roaming\\nltk_data...\n",
      "[nltk_data]   Package punkt is already up-to-date!\n",
      "[nltk_data] Downloading package stopwords to\n",
      "[nltk_data]     C:\\Users\\DELL\\AppData\\Roaming\\nltk_data...\n",
      "[nltk_data]   Package stopwords is already up-to-date!\n",
      "[nltk_data] Downloading package omw-1.4 to\n",
      "[nltk_data]     C:\\Users\\DELL\\AppData\\Roaming\\nltk_data...\n",
      "[nltk_data]   Package omw-1.4 is already up-to-date!\n"
     ]
    }
   ],
   "source": [
    "nltk.download('punkt')\n",
    "nltk.download('stopwords')\n",
    "nltk.download('omw-1.4')\n",
    "stop_words = set(stopwords.words('english'))\n"
   ]
  },
  {
   "cell_type": "code",
   "execution_count": 5,
   "id": "79694f92",
   "metadata": {},
   "outputs": [],
   "source": [
    "df['Description'] = df['Description'].apply(lambda x: word_tokenize(x.lower()))\n",
    "df['Description'] = df['Description'].apply(lambda x: [word for word in x if word not in stop_words])"
   ]
  },
  {
   "cell_type": "code",
   "execution_count": 6,
   "id": "be1b5874",
   "metadata": {},
   "outputs": [
    {
     "name": "stderr",
     "output_type": "stream",
     "text": [
      "[nltk_data] Downloading package wordnet to\n",
      "[nltk_data]     C:\\Users\\DELL\\AppData\\Roaming\\nltk_data...\n",
      "[nltk_data]   Package wordnet is already up-to-date!\n"
     ]
    }
   ],
   "source": [
    "# Lemmatization using NLTK\n",
    "nltk.download('wordnet')\n",
    "lemmatizer = WordNetLemmatizer()"
   ]
  },
  {
   "cell_type": "code",
   "execution_count": 7,
   "id": "ee960e93",
   "metadata": {},
   "outputs": [],
   "source": [
    "df['Description'] = df['Description'].apply(lambda x: [lemmatizer.lemmatize(word) for word in x])"
   ]
  },
  {
   "cell_type": "code",
   "execution_count": 15,
   "id": "fbf32c45",
   "metadata": {},
   "outputs": [],
   "source": [
    "df['Description_len']=df['Description'].apply(lambda x: len(x))"
   ]
  },
  {
   "cell_type": "code",
   "execution_count": 20,
   "id": "f4182b3e",
   "metadata": {},
   "outputs": [
    {
     "data": {
      "image/png": "[encoded data removed]",
      "text/plain": [
       "<Figure size 432x288 with 1 Axes>"
      ]
     },
     "metadata": {
      "needs_background": "light"
     },
     "output_type": "display_data"
    }
   ],
   "source": [
    "sns.kdeplot(df['Description_len'], palette=\"rocket\")\n",
    "plt.title('PDF of Length of description of various places')\n",
    "plt.show()"
   ]
  },
  {
   "cell_type": "code",
   "execution_count": 21,
   "id": "057305a7",
   "metadata": {},
   "outputs": [
    {
     "data": {
      "text/plain": [
       "0     [home, manikya, king, past, ,, agartala, perfe...\n",
       "1     [located, bank, river, yamuna, uttar, pradesh,...\n",
       "2     [rapidly, growing, metropolis, ,, industrial, ...\n",
       "3     [ajanta, ellora, cave, ,, considered, one, fin...\n",
       "4     [surrounded, aravali, range, ,, city, ajmer, f...\n",
       "                            ...                        \n",
       "95    [world, 's, oldest, living, city, ,, varanasi,...\n",
       "96    [varkala, coastal, town, southern, part, keral...\n",
       "97    [visakhapatnam, ,, also, commonly, known, viza...\n",
       "98    [one, oldest, city, bank, yamuna, ,, vrindavan...\n",
       "99    [replete, waterfall, ,, historical, cave, ,, c...\n",
       "Name: Description, Length: 100, dtype: object"
      ]
     },
     "execution_count": 21,
     "metadata": {},
     "output_type": "execute_result"
    }
   ],
   "source": [
    "df['Description']"
   ]
  },
  {
   "cell_type": "code",
   "execution_count": 53,
   "id": "fccb32ba",
   "metadata": {},
   "outputs": [
    {
     "name": "stderr",
     "output_type": "stream",
     "text": [
      "C:\\Users\\DELL\\anaconda3\\lib\\site-packages\\seaborn\\_decorators.py:36: FutureWarning: Pass the following variable as a keyword arg: x. From version 0.12, the only valid positional argument will be `data`, and passing other arguments without an explicit keyword will result in an error or misinterpretation.\n",
      "  warnings.warn(\n"
     ]
    },
    {
     "data": {
      "image/png": "[encoded data removed]",
      "text/plain": [
       "<Figure size 432x288 with 1 Axes>"
      ]
     },
     "metadata": {
      "needs_background": "light"
     },
     "output_type": "display_data"
    }
   ],
   "source": [
    "sns.countplot(df['Best Time to Visit'])\n",
    "plt.tight_layout()"
   ]
  },
  {
   "cell_type": "code",
   "execution_count": 60,
   "id": "c3cb79e3",
   "metadata": {},
   "outputs": [
    {
     "data": {
      "text/plain": [
       "Index(['October to March', 'Throughout the year', 'October to Jun',\n",
       "       'July to March', 'September to March'],\n",
       "      dtype='object')"
      ]
     },
     "execution_count": 60,
     "metadata": {},
     "output_type": "execute_result"
    }
   ],
   "source": [
    "df['Best Time to Visit'].value_counts()[:5].keys()"
   ]
  },
  {
   "cell_type": "code",
   "execution_count": 69,
   "id": "ba6d9aa8",
   "metadata": {},
   "outputs": [
    {
     "name": "stderr",
     "output_type": "stream",
     "text": [
      "C:\\Users\\DELL\\anaconda3\\lib\\site-packages\\seaborn\\_decorators.py:36: FutureWarning: Pass the following variables as keyword args: x, y. From version 0.12, the only valid positional argument will be `data`, and passing other arguments without an explicit keyword will result in an error or misinterpretation.\n",
      "  warnings.warn(\n"
     ]
    },
    {
     "data": {
      "image/png": "[encoded data removed]",
      "text/plain": [
       "<Figure size 576x360 with 1 Axes>"
      ]
     },
     "metadata": {
      "needs_background": "light"
     },
     "output_type": "display_data"
    }
   ],
   "source": [
    "fig=plt.figure(figsize=(8,5))\n",
    "sns.barplot(df['Best Time to Visit'].value_counts()[:5].keys(),df['Best Time to Visit'].value_counts()[:5].values, palette='rocket')\n",
    "plt.tight_layout()\n",
    "plt.title('Top 5 Best Time to Visit India')\n",
    "plt.xlabel('Time periods')\n",
    "plt.ylabel('Count')\n",
    "plt.show()"
   ]
  },
  {
   "cell_type": "code",
   "execution_count": 75,
   "id": "d17fb253",
   "metadata": {},
   "outputs": [
    {
     "data": {
      "text/html": [
       "<div>\n",
       "<style scoped>\n",
       "    .dataframe tbody tr th:only-of-type {\n",
       "        vertical-align: middle;\n",
       "    }\n",
       "\n",
       "    .dataframe tbody tr th {\n",
       "        vertical-align: top;\n",
       "    }\n",
       "\n",
       "    .dataframe thead th {\n",
       "        text-align: right;\n",
       "    }\n",
       "</style>\n",
       "<table border=\"1\" class=\"dataframe\">\n",
       "  <thead>\n",
       "    <tr style=\"text-align: right;\">\n",
       "      <th></th>\n",
       "      <th>Place</th>\n",
       "      <th>Rating</th>\n",
       "    </tr>\n",
       "  </thead>\n",
       "  <tbody>\n",
       "    <tr>\n",
       "      <th>8</th>\n",
       "      <td>Amarnath</td>\n",
       "      <td>4.6</td>\n",
       "    </tr>\n",
       "    <tr>\n",
       "      <th>32</th>\n",
       "      <td>Gulmarg</td>\n",
       "      <td>4.6</td>\n",
       "    </tr>\n",
       "    <tr>\n",
       "      <th>50</th>\n",
       "      <td>Khajuraho</td>\n",
       "      <td>4.6</td>\n",
       "    </tr>\n",
       "    <tr>\n",
       "      <th>58</th>\n",
       "      <td>Leh Ladakh</td>\n",
       "      <td>4.6</td>\n",
       "    </tr>\n",
       "  </tbody>\n",
       "</table>\n",
       "</div>"
      ],
      "text/plain": [
       "         Place  Rating\n",
       "8     Amarnath     4.6\n",
       "32     Gulmarg     4.6\n",
       "50   Khajuraho     4.6\n",
       "58  Leh Ladakh     4.6"
      ]
     },
     "execution_count": 75,
     "metadata": {},
     "output_type": "execute_result"
    }
   ],
   "source": [
    "df[df.Rating>=4.6][['Place','Rating']]"
   ]
  },
  {
   "cell_type": "code",
   "execution_count": null,
   "id": "6d5d6ac9",
   "metadata": {},
   "outputs": [],
   "source": []
  }
 ],
 "metadata": {
  "kernelspec": {
   "display_name": "Python 3 (ipykernel)",
   "language": "python",
   "name": "python3"
  },
  "language_info": {
   "codemirror_mode": {
    "name": "ipython",
    "version": 3
   },
   "file_extension": ".py",
   "mimetype": "text/x-python",
   "name": "python",
   "nbconvert_exporter": "python",
   "pygments_lexer": "ipython3",
   "version": "3.9.12"
  }
 },
 "nbformat": 4,
 "nbformat_minor": 5
}
